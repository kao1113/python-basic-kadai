{
  "nbformat": 4,
  "nbformat_minor": 0,
  "metadata": {
    "colab": {
      "provenance": []
    },
    "kernelspec": {
      "name": "python3",
      "display_name": "Python 3"
    },
    "language_info": {
      "name": "python"
    }
  },
  "cells": [
    {
      "cell_type": "code",
      "execution_count": null,
      "metadata": {
        "colab": {
          "base_uri": "https://localhost:8080/"
        },
        "id": "XaDvVlG1CDP4",
        "outputId": "7e207f0d-daa1-4103-f9e0-1036a1ccdf15"
      },
      "outputs": [
        {
          "output_type": "stream",
          "name": "stdout",
          "text": [
            "75.0cm²\n"
          ]
        }
      ],
      "source": [
        "jouhen = 10\n",
        "kahen = 20\n",
        "takasa = 5\n",
        "\n",
        "menseki = (jouhen + kahen) * takasa / 2\n",
        "\n",
        "print(f\"{menseki}cm²\")\n"
      ]
    },
    {
      "cell_type": "code",
      "source": [],
      "metadata": {
        "id": "x5KscyxIExcK"
      },
      "execution_count": null,
      "outputs": []
    }
  ]
}