{
  "nbformat": 4,
  "nbformat_minor": 0,
  "metadata": {
    "colab": {
      "provenance": []
    },
    "kernelspec": {
      "name": "python3",
      "display_name": "Python 3"
    },
    "language_info": {
      "name": "python"
    }
  },
  "cells": [
    {
      "cell_type": "code",
      "execution_count": 4,
      "metadata": {
        "colab": {
          "base_uri": "https://localhost:8080/"
        },
        "id": "bVcK-OUvZIb5",
        "outputId": "659f71bd-72f3-46e8-98ce-6bb2e774475c"
      },
      "outputs": [
        {
          "output_type": "stream",
          "name": "stdout",
          "text": [
            "Alice は大人です\n",
            "Bob 大人ではありません.\n",
            "Charlie は大人です\n",
            "Daisy 大人ではありません.\n",
            "Edward は大人です\n"
          ]
        }
      ],
      "source": [
        "class Human:\n",
        "    def __init__(self, name, age):\n",
        "        self.name = name\n",
        "        self.age = age\n",
        "\n",
        "    def check_adult(self):\n",
        "        if self.age >= 20:\n",
        "            print(f\"{self.name} は大人です\")\n",
        "        else:\n",
        "            print(f\"{self.name} 大人ではありません.\")\n",
        "\n",
        "humans = [\n",
        "    Human(\"Alice\", 25),\n",
        "    Human(\"Bob\", 19),\n",
        "    Human(\"Charlie\", 30),\n",
        "    Human(\"Daisy\", 17),\n",
        "    Human(\"Edward\", 22)\n",
        "]\n",
        "\n",
        "for human in humans:\n",
        "    human.check_adult()\n"
      ]
    }
  ]
}