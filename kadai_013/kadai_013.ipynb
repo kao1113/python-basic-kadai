{
  "nbformat": 4,
  "nbformat_minor": 0,
  "metadata": {
    "colab": {
      "provenance": []
    },
    "kernelspec": {
      "name": "python3",
      "display_name": "Python 3"
    },
    "language_info": {
      "name": "python"
    }
  },
  "cells": [
    {
      "cell_type": "code",
      "source": [
        "def calculate_total_with_tax(price,tax):\n",
        "  total_price = price * tax\n",
        "\n",
        "  print(f\"{total_price}円\")\n",
        "\n",
        "calculate_total_with_tax(1200,1.1)\n"
      ],
      "metadata": {
        "colab": {
          "base_uri": "https://localhost:8080/"
        },
        "id": "Ev5gk_dXox1h",
        "outputId": "f068ed7a-e27f-43ea-f270-fa9308a4a76b"
      },
      "execution_count": 16,
      "outputs": [
        {
          "output_type": "stream",
          "name": "stdout",
          "text": [
            "1320.0円\n"
          ]
        }
      ]
    }
  ]
}